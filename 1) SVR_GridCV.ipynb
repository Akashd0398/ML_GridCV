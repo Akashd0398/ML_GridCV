{
 "cells": [
  {
   "cell_type": "code",
   "execution_count": null,
   "id": "a8471e9e-b7e5-44f1-a261-822854f806a6",
   "metadata": {},
   "outputs": [],
   "source": [
    "#importing the Libraies\n",
    "import numpy as np\n",
    "import matplotlib.pyplot as plt\n",
    "import pandas as pd"
   ]
  },
  {
   "cell_type": "code",
   "execution_count": null,
   "id": "bd21e878-43ec-4f29-84b9-2fc8cae65cea",
   "metadata": {},
   "outputs": [],
   "source": [
    "# Reading the Dataset\n",
    "dataset = pd.read_csv('insurance_pre.csv')\n"
   ]
  },
  {
   "cell_type": "code",
   "execution_count": null,
   "id": "46b1c68d-96f1-433d-a56f-eca02d561c81",
   "metadata": {},
   "outputs": [],
   "source": [
    "dataset\n"
   ]
  },
  {
   "cell_type": "code",
   "execution_count": null,
   "id": "520e3860-2cfd-40a3-b542-40ee45bace6c",
   "metadata": {},
   "outputs": [],
   "source": [
    "dataset=pd.get_dummies(dataset,drop_first=True)"
   ]
  },
  {
   "cell_type": "code",
   "execution_count": null,
   "id": "83fce841-6abd-491d-bfe7-b249d42c3920",
   "metadata": {},
   "outputs": [],
   "source": [
    "dataset"
   ]
  },
  {
   "cell_type": "code",
   "execution_count": null,
   "id": "9ae15842-c588-4add-928f-5dddc9384451",
   "metadata": {},
   "outputs": [],
   "source": [
    "indep=dataset[['Age', 'BMI', 'Children','Sex_male', 'Smoker_yes']]\n",
    "dep=dataset['Charges']"
   ]
  },
  {
   "cell_type": "code",
   "execution_count": null,
   "id": "2b7243a5-2312-4bf2-8684-a8893b066920",
   "metadata": {},
   "outputs": [],
   "source": [
    "from sklearn.model_selection import GridSearchCV\n",
    "from sklearn.svm import SVR\n",
    "param_grid = {'kernel':['rbf','poly','sigmoid','linear'],\n",
    "'C':[10,100,1000,2000,3000],'gamma':['auto','scale']}\n",
    "grid = GridSearchCV(SVR(), param_grid, refit = True, verbose = 3,n_jobs=-1)\n",
    "# fitting the model for grid search\n",
    "grid.fit(indep, dep)"
   ]
  },
  {
   "cell_type": "code",
   "execution_count": null,
   "id": "4c4931a6-bb61-4bc5-84a1-a107ae40127f",
   "metadata": {},
   "outputs": [],
   "source": [
    "# print best parameter after tuning\n",
    "#print(grid.best_params_)\n",
    "re=grid.cv_results_\n",
    "print(\"The R_score value for best parameter {}:\".format(grid.best_params_))"
   ]
  },
  {
   "cell_type": "code",
   "execution_count": null,
   "id": "9ca4e293-ffcd-45c1-a04b-70fff954d451",
   "metadata": {},
   "outputs": [],
   "source": [
    "table=pd.DataFrame.from_dict(re)"
   ]
  },
  {
   "cell_type": "code",
   "execution_count": null,
   "id": "5d40826e-5911-4b09-943b-d74c138283c7",
   "metadata": {},
   "outputs": [],
   "source": [
    "table"
   ]
  },
  {
   "cell_type": "code",
   "execution_count": null,
   "id": "cd9d7abd-7cf0-4294-b619-590045df13cf",
   "metadata": {},
   "outputs": [],
   "source": [
    "Age_input=float(input(\"Age:\"))\n",
    "BMI_input=float(input(\"BMI:\"))\n",
    "Children_input=float(input(\"Children:\"))\n",
    "Sex_male_input=int(input(\"Sex Male 0 or 1:\"))\n",
    "Smoker_yes_input=int(input(\"Smoker Yes 0 or 1:\"))"
   ]
  },
  {
   "cell_type": "code",
   "execution_count": null,
   "id": "f8a46fae-0f6a-4d4d-8974-e1fce9eefb5d",
   "metadata": {},
   "outputs": [],
   "source": [
    "Future_Prediction=grid.predict([[age_input,bmi_input,children_input,sex_male_input,smoker_yes_input]])\n",
    "#change the paramter,play with it.\n",
    "print(\"Future_Prediction={}\".format(Future_Prediction))"
   ]
  }
 ],
 "metadata": {
  "kernelspec": {
   "display_name": "Python 3 (ipykernel)",
   "language": "python",
   "name": "python3"
  },
  "language_info": {
   "codemirror_mode": {
    "name": "ipython",
    "version": 3
   },
   "file_extension": ".py",
   "mimetype": "text/x-python",
   "name": "python",
   "nbconvert_exporter": "python",
   "pygments_lexer": "ipython3",
   "version": "3.11.7"
  }
 },
 "nbformat": 4,
 "nbformat_minor": 5
}
